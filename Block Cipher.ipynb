{
 "cells": [
  {
   "cell_type": "code",
   "execution_count": null,
   "id": "082cf4a5-39dc-4511-8478-9311a81e4f4f",
   "metadata": {},
   "outputs": [],
   "source": [
    "import ipywidgets as widgets\n",
    "\n",
    "from ciphers import BlockCipher\n",
    "from IPython.display import display\n",
    "\n",
    "block_cipher = BlockCipher()"
   ]
  },
  {
   "cell_type": "code",
   "execution_count": null,
   "id": "28bf3cf3-d12f-4333-aaa3-b690b7d92d44",
   "metadata": {},
   "outputs": [],
   "source": [
    "message = 'Hello world! This is RI master class' # input('Enter a message: ')\n",
    "ciphered_message = block_cipher.cipher(message, print_table=True)\n",
    "deciphered_message = block_cipher.decipher(ciphered_message)\n",
    "print(ciphered_message)\n",
    "print(deciphered_message)"
   ]
  },
  {
   "cell_type": "code",
   "execution_count": null,
   "id": "bbd1c298-cd4f-4713-8660-ef14439b4905",
   "metadata": {},
   "outputs": [],
   "source": [
    "from ciphers import HalfReversedAlphabetCipher, SlidingScaleCipher\n",
    "half = HalfReversedAlphabetCipher()\n",
    "\n",
    "sliding_ciphers = tuple(SlidingScaleCipher(r) for r in range(27))\n",
    "selected_cipher = sliding_ciphers[13]\n",
    "\n",
    "rot_slider = widgets.IntSlider(\n",
    "    value=13,\n",
    "    min=0,\n",
    "    max=26,\n",
    "    step=1,\n",
    "    description='Scale rotation: ',\n",
    "    disabled=False,\n",
    "    continuous_update=True,\n",
    "    orientation='horizontal',\n",
    "    readout=True,\n",
    "    readout_format='d'\n",
    ")\n",
    "\n",
    "caption = widgets.Label(value='hhh')\n",
    "\n",
    "def refresh_caption():\n",
    "    caption.value = selected_cipher.cipher('Masterclass')\n",
    "\n",
    "def handle_slider_change(change):\n",
    "    global selected_cipher\n",
    "    selected_cipher = sliding_ciphers[change.new]\n",
    "    refresh_caption()\n",
    "    \n",
    "refresh_caption()\n",
    "\n",
    "rot_slider.observe(handle_slider_change, names='value')\n",
    "display(rot_slider, caption)"
   ]
  }
 ],
 "metadata": {
  "kernelspec": {
   "display_name": "Python 3 (ipykernel)",
   "language": "python",
   "name": "python3"
  },
  "language_info": {
   "codemirror_mode": {
    "name": "ipython",
    "version": 3
   },
   "file_extension": ".py",
   "mimetype": "text/x-python",
   "name": "python",
   "nbconvert_exporter": "python",
   "pygments_lexer": "ipython3",
   "version": "3.7.12"
  }
 },
 "nbformat": 4,
 "nbformat_minor": 5
}
