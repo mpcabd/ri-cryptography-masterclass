{
 "cells": [
  {
   "cell_type": "markdown",
   "id": "502c8f86",
   "metadata": {
    "jp-MarkdownHeadingCollapsed": true,
    "tags": []
   },
   "source": [
    "# Royal Institute Masterclass — Cryptography\n",
    "_by Abdullah Diab (abdullahdiab@google.com)_\n",
    "\n",
    "Welcome to this masterclass with the Royal Institute!\n",
    "\n",
    "In this notebook we're going to explore some of the known methods of cryptography ⚙️, understand how they work 🧠, do some hands-on work with them, try to decrypt a secret message that our spy has intercepted 🕵️‍♀️, get to know what the Nazis used in WWII to encrypt their communication 🤔; and finally, learn a bit about how cryptography is keeping your connection to the internet safe and away from spies' eyes 🔐.\n",
    "\n",
    "If you have any questions or feedback, please feel free to contact me at my email."
   ]
  },
  {
   "cell_type": "markdown",
   "id": "efb9ef71",
   "metadata": {
    "tags": []
   },
   "source": [
    "## Exploring known methods of cryptography\n",
    "\n",
    "In this section, we're going to explore different methods of cryptography, we call them ciphers, which are bascially algorithms that if we follow we encrypt a message. Cipher is the noun, encrypt is the verb, but many people use them quite interchangebly, so you can say encryption and ciphering 🤷."
   ]
  },
  {
   "cell_type": "markdown",
   "id": "3b746fb5",
   "metadata": {
    "tags": []
   },
   "source": [
    "### 1. Block Cipher\n",
    "\n",
    "In block cipher, we write our message in a table, we put each letter in a cell, row by row, starting from the top left cell and finishing on the bottom right cell. The dimensions of the table differ by message. After that, we read the message column by column.\n",
    "\n",
    "Let's look at a real example. Let's take the message **Hello world! This is RI masterclass**. This Cipher doesn't work well with spaces, so we remove all spaces and make each word start with a capital letter, so our message becomes **HelloWorld!ThisIsRiMasterclass**. Let's put it in a table:\n",
    "\n",
    "\n",
    "```\n",
    "| H | e | l | l | o | W |\n",
    "| o | r | l | d | ! | T |\n",
    "| h | i | s | I | s | R |\n",
    "| i | M | a | s | t | e |\n",
    "| r | c | l | a | s | s |\n",
    "```\n",
    "\n",
    "Now if you read the message column by column what you get is **HohIreriMcllsalldisao!stsWTRes** which looks funny and doesn't make any sense, but anyone who knows we could be useing block cipher would try fitting the message in a table column by column to unveil the original message.\n",
    "\n",
    "Now go ahead and try it yourself!"
   ]
  },
  {
   "cell_type": "code",
   "execution_count": null,
   "id": "e986fec2",
   "metadata": {},
   "outputs": [],
   "source": [
    "import notebook_helper\n",
    "\n",
    "notebook_helper.render_block_cipher('Hello world! This is RI masterclass')"
   ]
  },
  {
   "cell_type": "markdown",
   "id": "863ef932",
   "metadata": {},
   "source": [
    "### 2. Sliding Scale Cipher\n",
    "\n",
    "This cipher is very old, Julius Caesar used it to encrypt messages to his officers. The idea is pretty neat, you basically put the letters on two discs, one larger than the other. You lay down the small disc on top of the large disc, and rotate the smaller disc a number of letters, we can that the rotation, with that you get a mapping from one letter to another that you use to encrypt and decrypt. Here's an example:\n",
    "\n",
    "<div style=\"text-align: center; margin: 2em 0;\"><img src=\"caesar.svg\" alt=\"rot4 cipher\" width=\"300px\"><br><span style=\"font-style: italic\">Here you see rot4 cipher, where each letter is mapped to the 4th next letter.</span></div>\n",
    "\n",
    "As you see above, we use the notation of rot**Z** to refer to the cipher where **Z** is how many letters we've rotated the inner disc. Rot13 is a special one, in which the disc is rotated 13 places, which is half the letters, it's sometimes called the _half-reversed alphabet cipher_.\n",
    "\n",
    "Let's try it ourselves!"
   ]
  },
  {
   "cell_type": "code",
   "execution_count": null,
   "id": "7edaa519",
   "metadata": {},
   "outputs": [],
   "source": [
    "notebook_helper.render_scale_cipher('Hello world! This is RI masterclass')"
   ]
  },
  {
   "cell_type": "markdown",
   "id": "595c9396",
   "metadata": {},
   "source": [
    "### 3. Letter Mapping Cipher\n",
    "\n",
    "This is basically just the general idea of mapping each letter to another one, but not necessarily keeping letters in order like the sliding scale cipher. The snippet below generates a random mapping every time you interact with it.\n",
    "\n",
    "Let's try it ourselves!"
   ]
  },
  {
   "cell_type": "code",
   "execution_count": null,
   "id": "c5ee6b03",
   "metadata": {},
   "outputs": [],
   "source": [
    "notebook_helper.render_random_cipher('Hello world! This is RI masterclass')"
   ]
  },
  {
   "cell_type": "markdown",
   "id": "563af1d0",
   "metadata": {},
   "source": [
    "### 4. Symbol Mapping Cipher\n",
    "\n",
    "This, just like the previous cipher, maps every letter to something else, but here it maps it to a symbol instead of a letter.\n",
    "\n",
    "Let's try it ourselves!"
   ]
  },
  {
   "cell_type": "code",
   "execution_count": null,
   "id": "eebcb9c1",
   "metadata": {},
   "outputs": [],
   "source": [
    "notebook_helper.render_emoji_cipher('Hello world! This is RI masterclass')"
   ]
  },
  {
   "cell_type": "markdown",
   "id": "a479800d",
   "metadata": {
    "tags": []
   },
   "source": [
    "## Decrypt an Intercepted Message 🕵️‍\n",
    "\n",
    "One of our hypothetical spies 🕵️‍ intercepted a message that we suspect is talking about something related to Britain 🇬🇧, the spy doesn't have the tools to decrypt this message, and reached out to us to help her. Are you up to the challenge?\n",
    "\n",
    "Here's what we know:\n",
    "\n",
    "1. The message is in **English**;\n",
    "2. The message is talking about something **related to Britain 🇬🇧**;\n",
    "3. The sender was using some sort of a **mapping cipher**;\n",
    "4. The message is **\"YGR JBQT TZTMKTL? WGGP. VJBV MTBZL YGR’QT LVGGP RC UGI LGMTVJKZW KZ YGRI FKUT. — AKZLVGZ OJRIOJKFF\"**.\n",
    "\n",
    "What can we do to decrypt the message? <span color=\"red\"><a href=\"decryption-notes.md\">Spoilers here</a></span>"
   ]
  },
  {
   "cell_type": "code",
   "execution_count": null,
   "id": "9fc9747e",
   "metadata": {
    "tags": []
   },
   "outputs": [],
   "source": [
    "notebook_helper.render_decryption_tool(\n",
    "    'YGR JBQT TZTMKTL? WGGP. VJBV MTBZL YGR’QT LVGGP RC UGI LGMTVJKZW KZ YGRI FKUT. — AKZLVGZ OJRIOJKFF')"
   ]
  },
  {
   "cell_type": "markdown",
   "id": "f759cb53",
   "metadata": {
    "tags": []
   },
   "source": [
    "## Enigma\n",
    "\n",
    "As you saw above, when letters are mapped to symbols, or letters, and that mapping is fixed throughout the coding process, then there's a huge risk that someone would use the statistics of the language, and other rules to deduce what the mapping is. So what could we do?\n",
    "\n",
    "In WWII the Nazis solved this by creating the Enigma machine to encrypt their communication.\n",
    "\n",
    "<p style=\"text-align: center; font-style: italic\"><img width=\"300px\" src=\"https://upload.wikimedia.org/wikipedia/commons/b/bd/Enigma_%28crittografia%29_-_Museo_scienza_e_tecnologia_Milano.jpg\" alt=\"Enigma (crittografia) - Museo scienza e tecnologia Milano.jpg\"><br>By Alessandro Nassiri - <span title=\"museum in Milan, Italy\">Museo della Scienza e della Tecnologia \"Leonardo da Vinci\"</span>, CC BY-SA 4.0</p>\n",
    "\n",
    "The Enigma was an encryption machine, and in its simplest form it could have more than 15 billion billion different configurations. That number looks like this $15,000,000,000,000,000,000$ or $15 \\times 10^{18}$. So when you want to break the code of the enigma, you have to spend years trying different combinations of its configurations to break it, and that's why the Nazis loved it, as no one had years to decrypt it, expecially that they changed the configuration daily, which means anyone who is able to decrypt a message and get to the configuration used had a maximum of 24 hours of use for that configuration. There were no computers back then, and all code breaking happened manually.\n",
    "\n",
    "The Enigma was fitted with three wheels, we call them rotors, a reflector, and a plugboard. There were 26 different rotors you could choose from to fit in the machine, and you could change the wiring inside the reflector, and inside the plugboard, giving you that huge number of configurations.\n",
    "\n",
    "Every time you press a key on its keyboard, an electric signal travels from that key, to the plugboard, where the key gets mapped to a different key depending on how the plugboard is wired, then the signal reaches the first rotor, were the key gets mapped again, then the second, then the third rotor, then the reflector, then back to the third, second, and first rotor. All this time the key was being remapped repeatedly, and at the end of the cycle the signal reaches the lightboard where the final mapped key would light up, and the rotors would rotate, which changes the mapping of the key to a different key. So for example, if you press T, and G lights up, pressing T again wouldn't necessarily mean that G would light up again, it could be any other key.\n",
    "\n",
    "Let's try our hands on a virtual Engima!"
   ]
  },
  {
   "cell_type": "code",
   "execution_count": null,
   "id": "168b04e8",
   "metadata": {},
   "outputs": [],
   "source": [
    "notebook_helper.render_enigma()"
   ]
  },
  {
   "cell_type": "markdown",
   "id": "c25496cf",
   "metadata": {},
   "source": [
    "The fact that the mapping changes during the process, and the fact that there were billions of different configurations, made the Nazis believe the Enigma was unbreakable… until Turing came along, which you can learn more about from Numberphile videos [part 1](https://www.youtube.com/watch?v=d2NWPG2gB_A) and [part 2](https://www.youtube.com/watch?v=kj_7Jc1mS9k)."
   ]
  },
  {
   "cell_type": "markdown",
   "id": "dc6babac",
   "metadata": {},
   "source": [
    "## Cryptography on the Web\n",
    "\n",
    "Besides spies, armies, and secret agents, you actually are using an extremely strong cipher now to encrypt your connection to this page on the Web. Without such encryption, any person with access to the network between your device and the machine this document is running on would be able to read the data you and the page interchange. While assumingly this it's OK for your connection to this page to be unprotected, it's very rare nowadays to have such unprotected connections because of all the security problems one could get into by using plain unprotected communication channels on the web.\n",
    "\n",
    "### RSA (Rivest–Shamir–Adleman)\n",
    "\n",
    "RSA is a public-key cryptosystem, widely used on the Web and in other applications to encrypt messages in a hard-to-almost-impossible-to-break way. It uses a lot of smart maths on the inside, if you're interested in knowing how it works internally you can watch [this Numberphile video](https://www.youtube.com/watch?v=M7kEpw1tn50).\n",
    "\n",
    "In short though, let us see what RSA means.\n",
    "\n",
    "In RSA, and in public-key ciphers in general, we have what we call a cryptosystem, which is basically a pair of keys, and an alogirthm that uses these keys to encrypt and decrypt messags. The pair of keys are called the public key, and the private key. The public key is, obviously, public, and known to anyone who you interact with. The private key, on the other hand, is private, and must only be known to you.\n",
    "\n",
    "Public keys are used to encrypt messages, so anyone can encrypt a message using your public key and send you the message. Private keys are used to decrypt the messages, so only you can decrypt the message sent to you. The reason that only you can do that is that the math involved to try to guess your private key takes supercomputers years to solve, so you can rest assured no one can guess your private key if you've taken good care of keeping it a secret.\n",
    "\n",
    "Public keys have two numbers, $e$ and $n$, and private keys have three additional numbers $d$, $p$ and $q$.\n",
    "\n",
    "- $p$ and $q$ are prime numbers, and are really really large prime numbers, they're distinct primes, so $p \\neq q$ and they should be chosen to not be very close primes so usually they differ in length of digits.\n",
    "- $n$ is actually the product of $p$ and $q$, so $n = p \\times q$.\n",
    "- $d$ and $e$ are generated using mathmatical forumlas that are outside the scope of this intro.\n",
    "\n",
    "The most important thing to keep in mind is that $n$ and $e$ are public while $p$, $q$ and $d$ are private, and due to (1) the complex maths used to generate $e$ and (2) that factoring $n$ into $p$ and $q$ is really slow even on super computers, due to all that it's nearly impossible to break RSA, and that's why it's used on the Web. **It would take a classical computer around 300 trillion years to break a RSA-2048 bit encryption key, that's $300,000,000,000,000$ years or $300 \\times 10^{12}$ years.**\n",
    "\n",
    "Let's look at RSA in action!"
   ]
  },
  {
   "cell_type": "code",
   "execution_count": null,
   "id": "c6be5bfc-2c1b-4a7c-8f16-cfcf23c985f5",
   "metadata": {},
   "outputs": [],
   "source": [
    "notebook_helper.render_rsa()"
   ]
  },
  {
   "cell_type": "markdown",
   "id": "40b4514c-34ec-4ec4-9a55-0015a47e980a",
   "metadata": {},
   "source": [
    "### HTTPS\n",
    "\n",
    "When accessing websites, you'd usually notice the URL (Unique Resource Locator) starts with `https`, which is a secure version of `http`. HTTPS uses plenty of methods of encryption to secure your connection to the website you're viewing. RSA fails to be a good method for encrypting web pages, as the content of the web page is much larger usually than the block size in RSA, and using a block size suitable for large web pages means encryption and decryption will be extremely slow. So instead, computers use a faster simpler encryption method, for example AES (Advanced Encryption Standard), to encrypt the web page, and use RSA to encrypt the AES key. This way the AES key, which is not larger than what RSA supports, is secured really well, and your connection is safe."
   ]
  },
  {
   "cell_type": "markdown",
   "id": "14bd56e8-3f8a-4405-93b3-6f58aa7f74cd",
   "metadata": {},
   "source": [
    "## The end\n",
    "\n",
    "Thanks all for attending! If you have any comments, questions or feedback please feel free to reach out to RI or to me.\n",
    "\n",
    "Good luck!"
   ]
  }
 ],
 "metadata": {
  "kernelspec": {
   "display_name": "Python 3 (ipykernel)",
   "language": "python",
   "name": "python3"
  },
  "language_info": {
   "codemirror_mode": {
    "name": "ipython",
    "version": 3
   },
   "file_extension": ".py",
   "mimetype": "text/x-python",
   "name": "python",
   "nbconvert_exporter": "python",
   "pygments_lexer": "ipython3",
   "version": "3.7.12"
  },
  "nteract": {
   "version": "nteract-on-jupyter@3.2.8"
  }
 },
 "nbformat": 4,
 "nbformat_minor": 5
}
