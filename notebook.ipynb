{
 "cells": [
  {
   "cell_type": "markdown",
   "id": "cb6a5038-2fad-4397-a611-f8d9034586df",
   "metadata": {},
   "source": [
    "# Royal Institute Masterclass — Cryptography\n",
    "_by Abdullah Diab (abdullahdiab@google.com)_\n",
    "\n",
    "Welcome to this masterclass with the Royal Institute!\n",
    "\n",
    "In this notebook we're going to explore some of the known methods of cryptography ⚙️, understand how they work 🧠, do some hands-on work with them, try to decipher a secret message that our spy has intercepted 🕵️‍♀️, get to know what the Nazis used in WWII to encrypt their communication 🤔; and finally, learn a bit about how cryptography is keeping your connection to the internet safe and away from spies' eyes 🔐.\n",
    "\n",
    "If you have any questions or feedback, please feel free to contact me at my email."
   ]
  },
  {
   "cell_type": "markdown",
   "id": "231e2e3b-2354-490a-801e-f8ece93a701a",
   "metadata": {
    "tags": []
   },
   "source": [
    "## Exploring known methods of cryptography\n",
    "\n",
    "In this section, we're going to explore different methods of cryptography, we call them ciphers, which are bascially algorithms that if we follow we encrypt a message. Cipher is the noun, encrypt is the verb, but many people use them quite interchangebly, so you can say encryption and ciphering 🤷."
   ]
  },
  {
   "cell_type": "markdown",
   "id": "ef94c1ad-37bd-4b6f-949a-3ae5b75cd4fc",
   "metadata": {
    "tags": []
   },
   "source": [
    "### 1. Block Cipher\n",
    "\n",
    "In block cipher, we write our message in a table, we put each letter in a cell, row by row, starting from the top left cell and finishing on the bottom right cell. The dimensions of the table differ by message. After that, we read the message column by column.\n",
    "\n",
    "Let's look at a real example. Let's take the message **Hello world! This is RI masterclass**. This Cipher doesn't work well with spaces, so we remove all spaces and make each word start with a capital letter, so our message becomes **HelloWorld!ThisIsRiMasterclass**. Let's put it in a table:\n",
    "\n",
    "\n",
    "```\n",
    "| H | e | l | l | o | W |\n",
    "| o | r | l | d | ! | T |\n",
    "| h | i | s | I | s | R |\n",
    "| i | M | a | s | t | e |\n",
    "| r | c | l | a | s | s |\n",
    "```\n",
    "\n",
    "Now if you read the message column by column what you get is **HohIreriMcllsalldisao!stsWTRes** which looks funny and doesn't make any sense, but anyone who knows we could be useing block cipher would try fitting the message in a table column by column to unveil the original message.\n",
    "\n",
    "Now go ahead and try it yourself!"
   ]
  },
  {
   "cell_type": "code",
   "execution_count": 1,
   "id": "f7ad59a7-a26e-4deb-b90e-b95a2ff2fa02",
   "metadata": {},
   "outputs": [
    {
     "data": {
      "application/vnd.jupyter.widget-view+json": {
       "model_id": "3fd6e7102f0c4fe8a96fc0cd36e5cffe",
       "version_major": 2,
       "version_minor": 0
      },
      "text/plain": [
       "VBox(children=(Label(value='Enter your message below:'), Text(value='Hello world! This is RI masterclass'), Ch…"
      ]
     },
     "metadata": {},
     "output_type": "display_data"
    }
   ],
   "source": [
    "import notebook_helper\n",
    "\n",
    "notebook_helper.render_block_cipher('Hello world! This is RI masterclass')"
   ]
  },
  {
   "cell_type": "markdown",
   "id": "c501f065-e1db-4d71-9509-e90739cb8eda",
   "metadata": {},
   "source": [
    "### 2. Sliding Scale Cipher\n",
    "\n",
    "This cipher is very old, Julius Caesar used it to encrypt messages to his officers. The idea is pretty neat, you basically put the letters on two discs, one larger than the other. You lay down the small disc on top of the large disc, and rotate the smaller disc a number of letters, we can that the rotation, with that you get a mapping from one letter to another that you use to encrypt and decrypt. Here's an example:\n",
    "\n",
    "<div style=\"text-align: center; margin: 2em 0;\"><img src=\"caesar.svg\" alt=\"rot4 cipher\" width=\"300px\"><br><span style=\"font-style: italic\">Here you see rot4 cipher, where each letter is mapped to the 4th next letter.</span></div>\n",
    "\n",
    "As you see above, we use the notation of rot**Z** to refer to the cipher where **Z** is how many letters we've rotated the inner disc. Rot13 is a special one, in which the disc is rotated 13 places, which is half the letters, it's sometimes called the _half-reversed alphabet cipher_.\n",
    "\n",
    "Let's try it ourselves!"
   ]
  },
  {
   "cell_type": "code",
   "execution_count": 2,
   "id": "bc6eab61-881a-4e21-aa97-a890da87a08d",
   "metadata": {},
   "outputs": [
    {
     "data": {
      "application/vnd.jupyter.widget-view+json": {
       "model_id": "af8476ed5991429aa60b31e5990e99de",
       "version_major": 2,
       "version_minor": 0
      },
      "text/plain": [
       "VBox(children=(Label(value='Enter your message below:'), Text(value='Hello world! This is RI masterclass'), In…"
      ]
     },
     "metadata": {},
     "output_type": "display_data"
    }
   ],
   "source": [
    "notebook_helper.render_scale_cipher('Hello world! This is RI masterclass')"
   ]
  },
  {
   "cell_type": "markdown",
   "id": "f594c2e0-22db-416c-aba9-b2f57c3d1b74",
   "metadata": {},
   "source": [
    "### 3. Letter Mapping Cipher\n",
    "\n",
    "This is basically just the general idea of mapping each letter to another one, but not necessarily keeping letters in order like the sliding scale cipher. The snippet below generates a random mapping every time you interact with it.\n",
    "\n",
    "Let's try it ourselves!"
   ]
  },
  {
   "cell_type": "code",
   "execution_count": 3,
   "id": "76733e94-4bc8-4aaa-9384-feea37afcb42",
   "metadata": {},
   "outputs": [
    {
     "data": {
      "application/vnd.jupyter.widget-view+json": {
       "model_id": "3a254f94596744d4bc529143153c4415",
       "version_major": 2,
       "version_minor": 0
      },
      "text/plain": [
       "VBox(children=(Label(value='Enter your message below:'), Text(value='Hello world! This is RI masterclass'), Ch…"
      ]
     },
     "metadata": {},
     "output_type": "display_data"
    }
   ],
   "source": [
    "notebook_helper.render_random_cipher('Hello world! This is RI masterclass')"
   ]
  },
  {
   "cell_type": "markdown",
   "id": "b5393cae-cabc-4d6c-98ed-31cea3d0cf42",
   "metadata": {},
   "source": [
    "### 4. Symbol Mapping Cipher\n",
    "\n",
    "This, just like the previous cipher, maps every letter to something else, but here it maps it to a symbol instead of a letter.\n",
    "\n",
    "Let's try it ourselves!"
   ]
  },
  {
   "cell_type": "code",
   "execution_count": 4,
   "id": "c00d0c84-2d39-4ab1-b4d9-14df1a9fd710",
   "metadata": {},
   "outputs": [
    {
     "data": {
      "application/vnd.jupyter.widget-view+json": {
       "model_id": "2c2c086b0a09419a89c0a1da15b4305c",
       "version_major": 2,
       "version_minor": 0
      },
      "text/plain": [
       "VBox(children=(Label(value='Enter your message below:'), Text(value='Hello world! This is RI masterclass'), Ch…"
      ]
     },
     "metadata": {},
     "output_type": "display_data"
    }
   ],
   "source": [
    "notebook_helper.render_emoji_cipher('Hello world! This is RI masterclass')"
   ]
  }
 ],
 "metadata": {
  "kernelspec": {
   "display_name": "Python 3 (ipykernel)",
   "language": "python",
   "name": "python3"
  },
  "language_info": {
   "codemirror_mode": {
    "name": "ipython",
    "version": 3
   },
   "file_extension": ".py",
   "mimetype": "text/x-python",
   "name": "python",
   "nbconvert_exporter": "python",
   "pygments_lexer": "ipython3",
   "version": "3.7.12"
  }
 },
 "nbformat": 4,
 "nbformat_minor": 5
}
