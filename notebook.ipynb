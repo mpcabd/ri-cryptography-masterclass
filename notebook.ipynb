{
 "cells": [
  {
   "cell_type": "markdown",
   "id": "cb6a5038-2fad-4397-a611-f8d9034586df",
   "metadata": {},
   "source": [
    "# Royal Institute Masterclass — Cryptography\n",
    "_by Abdullah Diab (abdullahdiab@google.com)_\n",
    "\n",
    "Welcome to this masterclass with the Royal Institute!\n",
    "\n",
    "In this notebook we're going to explore some of the known methods of cryptography ⚙️, understand how they work 🧠, do some hands-on work with them, try to decipher a secret message that our spy has intercepted 🕵️‍♀️, get to know what the Nazis used in WWII to encrypt their communication 🤔; and finally, learn a bit about how cryptography is keeping your connection to the internet safe and away from spies' eyes 🔐.\n",
    "\n",
    "If you have any questions or feedback, please feel free to contact me at my email."
   ]
  },
  {
   "cell_type": "markdown",
   "id": "231e2e3b-2354-490a-801e-f8ece93a701a",
   "metadata": {},
   "source": [
    "## Exploring known methods of cryptography\n",
    "\n",
    "In this section, we're going to explore different methods of cryptography, we call them ciphers, which are bascially algorithms that if we follow we encrypt a message. Cipher is the noun, encrypt is the verb, but many people use them quite interchangebly, so you can say encryption and ciphering 🤷."
   ]
  },
  {
   "cell_type": "markdown",
   "id": "ef94c1ad-37bd-4b6f-949a-3ae5b75cd4fc",
   "metadata": {},
   "source": [
    "### 1. Block Cipher\n",
    "\n",
    "In block cipher, we write our message in a table, we put each letter in a cell, row by row, starting from the top left cell and finishing on the bottom right cell. The dimensions of the table differ by message. After that, we read the message column by column.\n",
    "\n",
    "Let's look at a real example. Let's take the message **Hello world! This is RI masterclass**. This Cipher doesn't work well with spaces, so we remove all spaces and make each word start with a capital letter, so our message becomes **HelloWorld!ThisIsRiMasterclass**. Let's put it in a table:\n",
    "\n",
    "\n",
    "```\n",
    "| H | e | l | l | o | W |\n",
    "| o | r | l | d | ! | T |\n",
    "| h | i | s | I | s | R |\n",
    "| i | M | a | s | t | e |\n",
    "| r | c | l | a | s | s |\n",
    "```\n",
    "\n",
    "Now if you read the message column by column what you get is **HohIr eriMc llsal ldisa o!sts WTRes** which looks funny and doesn't make any sense, but anyone who knows we could be useing block cipher would try fitting the message in a table column by column to unveil the original message."
   ]
  }
 ],
 "metadata": {
  "kernelspec": {
   "display_name": "Python 3 (ipykernel)",
   "language": "python",
   "name": "python3"
  },
  "language_info": {
   "codemirror_mode": {
    "name": "ipython",
    "version": 3
   },
   "file_extension": ".py",
   "mimetype": "text/x-python",
   "name": "python",
   "nbconvert_exporter": "python",
   "pygments_lexer": "ipython3",
   "version": "3.7.12"
  }
 },
 "nbformat": 4,
 "nbformat_minor": 5
}
