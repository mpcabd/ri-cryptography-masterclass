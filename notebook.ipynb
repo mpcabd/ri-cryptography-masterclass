{
 "cells": [
  {
   "cell_type": "markdown",
   "id": "cb6a5038-2fad-4397-a611-f8d9034586df",
   "metadata": {},
   "source": [
    "# Royal Institute Masterclass — Cryptography\n",
    "_by Abdullah Diab (abdullahdiab@google.com)_\n",
    "\n",
    "Welcome to this masterclass with the Royal Institute!\n",
    "\n",
    "In this notebook we're going to explore some of the known methods of cryptography ⚙️, understand how they work 🧠, do some hands-on work with them, try to decrypt a secret message that our spy has intercepted 🕵️‍♀️, get to know what the Nazis used in WWII to encrypt their communication 🤔; and finally, learn a bit about how cryptography is keeping your connection to the internet safe and away from spies' eyes 🔐.\n",
    "\n",
    "If you have any questions or feedback, please feel free to contact me at my email."
   ]
  },
  {
   "cell_type": "markdown",
   "id": "231e2e3b-2354-490a-801e-f8ece93a701a",
   "metadata": {
    "jp-MarkdownHeadingCollapsed": true,
    "tags": []
   },
   "source": [
    "## Exploring known methods of cryptography\n",
    "\n",
    "In this section, we're going to explore different methods of cryptography, we call them ciphers, which are bascially algorithms that if we follow we encrypt a message. Cipher is the noun, encrypt is the verb, but many people use them quite interchangebly, so you can say encryption and ciphering 🤷."
   ]
  },
  {
   "cell_type": "markdown",
   "id": "ef94c1ad-37bd-4b6f-949a-3ae5b75cd4fc",
   "metadata": {
    "tags": []
   },
   "source": [
    "### 1. Block Cipher\n",
    "\n",
    "In block cipher, we write our message in a table, we put each letter in a cell, row by row, starting from the top left cell and finishing on the bottom right cell. The dimensions of the table differ by message. After that, we read the message column by column.\n",
    "\n",
    "Let's look at a real example. Let's take the message **Hello world! This is RI masterclass**. This Cipher doesn't work well with spaces, so we remove all spaces and make each word start with a capital letter, so our message becomes **HelloWorld!ThisIsRiMasterclass**. Let's put it in a table:\n",
    "\n",
    "\n",
    "```\n",
    "| H | e | l | l | o | W |\n",
    "| o | r | l | d | ! | T |\n",
    "| h | i | s | I | s | R |\n",
    "| i | M | a | s | t | e |\n",
    "| r | c | l | a | s | s |\n",
    "```\n",
    "\n",
    "Now if you read the message column by column what you get is **HohIreriMcllsalldisao!stsWTRes** which looks funny and doesn't make any sense, but anyone who knows we could be useing block cipher would try fitting the message in a table column by column to unveil the original message.\n",
    "\n",
    "Now go ahead and try it yourself!"
   ]
  },
  {
   "cell_type": "code",
   "execution_count": 1,
   "id": "f7ad59a7-a26e-4deb-b90e-b95a2ff2fa02",
   "metadata": {},
   "outputs": [
    {
     "data": {
      "application/vnd.jupyter.widget-view+json": {
       "model_id": "fb7ac2fe3f304ae19dcc52c8ed2f7928",
       "version_major": 2,
       "version_minor": 0
      },
      "text/plain": [
       "VBox(children=(Label(value='Enter your message below:'), Text(value='Hello world! This is RI masterclass'), Ch…"
      ]
     },
     "metadata": {},
     "output_type": "display_data"
    }
   ],
   "source": [
    "import notebook_helper\n",
    "\n",
    "notebook_helper.render_block_cipher('Hello world! This is RI masterclass')"
   ]
  },
  {
   "cell_type": "markdown",
   "id": "c501f065-e1db-4d71-9509-e90739cb8eda",
   "metadata": {},
   "source": [
    "### 2. Sliding Scale Cipher\n",
    "\n",
    "This cipher is very old, Julius Caesar used it to encrypt messages to his officers. The idea is pretty neat, you basically put the letters on two discs, one larger than the other. You lay down the small disc on top of the large disc, and rotate the smaller disc a number of letters, we can that the rotation, with that you get a mapping from one letter to another that you use to encrypt and decrypt. Here's an example:\n",
    "\n",
    "<div style=\"text-align: center; margin: 2em 0;\"><img src=\"caesar.svg\" alt=\"rot4 cipher\" width=\"300px\"><br><span style=\"font-style: italic\">Here you see rot4 cipher, where each letter is mapped to the 4th next letter.</span></div>\n",
    "\n",
    "As you see above, we use the notation of rot**Z** to refer to the cipher where **Z** is how many letters we've rotated the inner disc. Rot13 is a special one, in which the disc is rotated 13 places, which is half the letters, it's sometimes called the _half-reversed alphabet cipher_.\n",
    "\n",
    "Let's try it ourselves!"
   ]
  },
  {
   "cell_type": "code",
   "execution_count": 2,
   "id": "bc6eab61-881a-4e21-aa97-a890da87a08d",
   "metadata": {},
   "outputs": [
    {
     "data": {
      "application/vnd.jupyter.widget-view+json": {
       "model_id": "819fb87c84cf41208f211ab4920421da",
       "version_major": 2,
       "version_minor": 0
      },
      "text/plain": [
       "VBox(children=(Label(value='Enter your message below:'), Text(value='Hello world! This is RI masterclass'), In…"
      ]
     },
     "metadata": {},
     "output_type": "display_data"
    }
   ],
   "source": [
    "notebook_helper.render_scale_cipher('Hello world! This is RI masterclass')"
   ]
  },
  {
   "cell_type": "markdown",
   "id": "f594c2e0-22db-416c-aba9-b2f57c3d1b74",
   "metadata": {},
   "source": [
    "### 3. Letter Mapping Cipher\n",
    "\n",
    "This is basically just the general idea of mapping each letter to another one, but not necessarily keeping letters in order like the sliding scale cipher. The snippet below generates a random mapping every time you interact with it.\n",
    "\n",
    "Let's try it ourselves!"
   ]
  },
  {
   "cell_type": "code",
   "execution_count": 3,
   "id": "76733e94-4bc8-4aaa-9384-feea37afcb42",
   "metadata": {},
   "outputs": [
    {
     "data": {
      "application/vnd.jupyter.widget-view+json": {
       "model_id": "de4a77aff7e44b0cae4d4dcba96be976",
       "version_major": 2,
       "version_minor": 0
      },
      "text/plain": [
       "VBox(children=(Label(value='Enter your message below:'), Text(value='Hello world! This is RI masterclass'), Ch…"
      ]
     },
     "metadata": {},
     "output_type": "display_data"
    }
   ],
   "source": [
    "notebook_helper.render_random_cipher('Hello world! This is RI masterclass')"
   ]
  },
  {
   "cell_type": "markdown",
   "id": "b5393cae-cabc-4d6c-98ed-31cea3d0cf42",
   "metadata": {},
   "source": [
    "### 4. Symbol Mapping Cipher\n",
    "\n",
    "This, just like the previous cipher, maps every letter to something else, but here it maps it to a symbol instead of a letter.\n",
    "\n",
    "Let's try it ourselves!"
   ]
  },
  {
   "cell_type": "code",
   "execution_count": 4,
   "id": "c00d0c84-2d39-4ab1-b4d9-14df1a9fd710",
   "metadata": {},
   "outputs": [
    {
     "data": {
      "application/vnd.jupyter.widget-view+json": {
       "model_id": "8d06ec8a86844d3db70b26d9c5e61dd2",
       "version_major": 2,
       "version_minor": 0
      },
      "text/plain": [
       "VBox(children=(Label(value='Enter your message below:'), Text(value='Hello world! This is RI masterclass'), Ch…"
      ]
     },
     "metadata": {},
     "output_type": "display_data"
    }
   ],
   "source": [
    "notebook_helper.render_emoji_cipher('Hello world! This is RI masterclass')"
   ]
  },
  {
   "cell_type": "markdown",
   "id": "a7e6159c-c76f-4e88-b4f3-3e974641469a",
   "metadata": {
    "tags": []
   },
   "source": [
    "## Decrypt an Intercepted Message 🕵️‍\n",
    "\n",
    "One of our hypothetical spies 🕵️‍ intercepted a message that we suspect is talking about something related to Britain 🇬🇧, the spy doesn't have the tools to decrypt this message, and reached out to us to help her. Are you up to the challenge?\n",
    "\n",
    "Here's what we know:\n",
    "\n",
    "1. The message is in **English**;\n",
    "2. The message is talking about something **related to Britain 🇬🇧**;\n",
    "3. The sender was using some sort of a **mapping cipher**;\n",
    "4. The message is **\"YGR JBQT TZTMKTL? WGGP. VJBV MTBZL YGR’QT LVGGP RC UGI LGMTVJKZW KZ YGRI FKUT. — AKZLVGZ OJRIOJKFF\"**.\n",
    "\n",
    "What can we do to decrypt the message?"
   ]
  },
  {
   "cell_type": "code",
   "execution_count": 5,
   "id": "a41f9d7e-700b-472e-bb7d-c517caac1ffa",
   "metadata": {},
   "outputs": [
    {
     "data": {
      "application/vnd.jupyter.widget-view+json": {
       "model_id": "59a73bda568046bdb6495a0a15c30554",
       "version_major": 2,
       "version_minor": 0
      },
      "text/plain": [
       "VBox(children=(Label(value='Enter your message below:'), Text(value='YGR JBQT TZTMKTL? WGGP. VJBV MTBZL YGR’QT…"
      ]
     },
     "metadata": {},
     "output_type": "display_data"
    }
   ],
   "source": [
    "notebook_helper.render_decryption_tool(\n",
    "    'YGR JBQT TZTMKTL? WGGP. VJBV MTBZL YGR’QT LVGGP RC UGI LGMTVJKZW KZ YGRI FKUT. — AKZLVGZ OJRIOJKFF')"
   ]
  },
  {
   "cell_type": "markdown",
   "id": "cb7ecb25-55ef-4b41-b9cb-fd9f2616008a",
   "metadata": {},
   "source": [
    "## Enigma\n",
    "\n",
    "As you saw above, when letters are mapped to symbols, or letters, and that mapping is fixed throughout the coding process, then there's a huge risk that someone would use the statistics of the language, and other rules to deduce what the mapping is. So what could we do?\n",
    "\n",
    "In WWII the Nazis solved this by creating the Enigma machine to encrypt their communication.\n",
    "\n",
    "<p style=\"text-align: center; font-style: italic\"><img width=\"300px\" src=\"https://upload.wikimedia.org/wikipedia/commons/b/bd/Enigma_%28crittografia%29_-_Museo_scienza_e_tecnologia_Milano.jpg\" alt=\"Enigma (crittografia) - Museo scienza e tecnologia Milano.jpg\"><br>By Alessandro Nassiri - <span title=\"museum in Milan, Italy\">Museo della Scienza e della Tecnologia \"Leonardo da Vinci\"</span>, CC BY-SA 4.0</p>\n",
    "\n",
    "The Enigma was an encryption machine, and in its simplest form it could have more than 15 billion billion different configurations. That number looks like this **15,000,000,000,000,000,000 or $15*10^{18}$**. So when you want to break the code of the enigma, you have to spend years trying different combinations of its configurations to break it, and that's why the Nazis loved it, as no one had years to decrypt it, expecially that they changed the configuration daily, which means anyone who is able to decrypt a message and get to the configuration used had a maximum of 24 hours of use for that configuration. There were no computers back then, and all code breaking happened manually.\n",
    "\n",
    "The Enigma was fitted with three wheels, we call them rotors, a reflector, and a plugboard. There were 26 different rotors you could choose from to fit in the machine, and you could change the wiring inside the reflector, and inside the plugboard, giving you that huge number of configurations.\n",
    "\n",
    "Every time you press a key on its keyboard, an electric signal travels from that key, to the plugboard, where the key gets mapped to a different key depending on how the plugboard is wired, then the signal reaches the first rotor, were the key gets mapped again, then the second, then the third rotor, then the reflector, then back to the third, second, and first rotor. All this time the key was being remapped repeatedly, and at the end of the cycle the signal reaches the lightboard where the final mapped key would light up, and the rotors would rotate, which changes the mapping of the key to a different key. So for example, if you press T, and G lights up, pressing T again wouldn't necessarily mean that G would light up again, it could be any other key.\n",
    "\n",
    "Let's try our hands on a virtual Engima!"
   ]
  },
  {
   "cell_type": "code",
   "execution_count": 6,
   "id": "6c0bb60b-fa7f-4c7a-b7de-da2d5461136f",
   "metadata": {},
   "outputs": [
    {
     "data": {
      "application/vnd.jupyter.widget-view+json": {
       "model_id": "22963ab7b99445259ce555720029f348",
       "version_major": 2,
       "version_minor": 0
      },
      "text/plain": [
       "HBox(children=(Text(value='NIBL FMYM LLUF WCAS CSSN VHAZ'), Play(value=-1, interval=1000, max=23, min=-1, show…"
      ]
     },
     "metadata": {},
     "output_type": "display_data"
    },
    {
     "data": {
      "application/vnd.jupyter.widget-view+json": {
       "model_id": "faa729f93e6449d9bf59943fd294ebd3",
       "version_major": 2,
       "version_minor": 0
      },
      "text/plain": [
       "HBox(children=(SelectionSlider(index=1, options=('A', 'B', 'C', 'D', 'E', 'F', 'G', 'H', 'I', 'J', 'K', 'L', '…"
      ]
     },
     "metadata": {},
     "output_type": "display_data"
    },
    {
     "data": {
      "application/vnd.jupyter.widget-view+json": {
       "model_id": "69d677fad0d546c795f229bd964653e9",
       "version_major": 2,
       "version_minor": 0
      },
      "text/plain": [
       "VBox(children=(HBox(children=(Button(description='Q', style=ButtonStyle()), Button(description='W', style=Butt…"
      ]
     },
     "metadata": {},
     "output_type": "display_data"
    },
    {
     "data": {
      "application/vnd.jupyter.widget-view+json": {
       "model_id": "bed824c1beaa4153b40fbfb332756155",
       "version_major": 2,
       "version_minor": 0
      },
      "text/plain": [
       "VBox(children=(Label(value='Pressed so far: '), Output()))"
      ]
     },
     "metadata": {},
     "output_type": "display_data"
    },
    {
     "data": {
      "application/vnd.jupyter.widget-view+json": {
       "model_id": "83d1549e36c647acba6c391d2c4fa5ec",
       "version_major": 2,
       "version_minor": 0
      },
      "text/plain": [
       "VBox(children=(Label(value='Output: '), Output()))"
      ]
     },
     "metadata": {},
     "output_type": "display_data"
    }
   ],
   "source": [
    "notebook_helper.render_enigma()"
   ]
  },
  {
   "cell_type": "code",
   "execution_count": null,
   "id": "2f9d6459-1d12-4a9d-be41-7e01d53e1623",
   "metadata": {},
   "outputs": [],
   "source": []
  }
 ],
 "metadata": {
  "kernelspec": {
   "display_name": "Python 3 (ipykernel)",
   "language": "python",
   "name": "python3"
  },
  "language_info": {
   "codemirror_mode": {
    "name": "ipython",
    "version": 3
   },
   "file_extension": ".py",
   "mimetype": "text/x-python",
   "name": "python",
   "nbconvert_exporter": "python",
   "pygments_lexer": "ipython3",
   "version": "3.7.12"
  }
 },
 "nbformat": 4,
 "nbformat_minor": 5
}
