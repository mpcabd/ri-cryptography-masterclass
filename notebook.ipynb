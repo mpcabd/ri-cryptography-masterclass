{
 "cells": [
  {
   "cell_type": "code",
   "execution_count": 1,
   "id": "082cf4a5-39dc-4511-8478-9311a81e4f4f",
   "metadata": {},
   "outputs": [],
   "source": [
    "import ipywidgets as widgets\n",
    "\n",
    "from ciphers import BlockCipher\n",
    "from IPython.display import display\n",
    "\n",
    "block_cipher = BlockCipher()"
   ]
  },
  {
   "cell_type": "code",
   "execution_count": 2,
   "id": "28bf3cf3-d12f-4333-aaa3-b690b7d92d44",
   "metadata": {},
   "outputs": [
    {
     "name": "stdout",
     "output_type": "stream",
     "text": [
      "HohireriMCllsalldIsao!stsWTRes\n",
      "HelloWorld!ThisIsRiMasterClass\n"
     ]
    },
    {
     "name": "stderr",
     "output_type": "stream",
     "text": [
      "H\te\tl\tl\to\tW\n",
      "o\tr\tl\td\t!\tT\n",
      "h\ti\ts\tI\ts\tR\n",
      "i\tM\ta\ts\tt\te\n",
      "r\tC\tl\ta\ts\ts\n"
     ]
    }
   ],
   "source": [
    "message = 'Hello world! This is RI master class' # input('Enter a message: ')\n",
    "ciphered_message = block_cipher.cipher(message, print_table=True)\n",
    "deciphered_message = block_cipher.decipher(ciphered_message)\n",
    "print(ciphered_message)\n",
    "print(deciphered_message)"
   ]
  },
  {
   "cell_type": "code",
   "execution_count": 5,
   "id": "bbd1c298-cd4f-4713-8660-ef14439b4905",
   "metadata": {},
   "outputs": [
    {
     "data": {
      "application/vnd.jupyter.widget-view+json": {
       "model_id": "18df0a8c254a45e6ad8603be7b3a1f54",
       "version_major": 2,
       "version_minor": 0
      },
      "text/plain": [
       "Text(value='Masterclass', description='Message:', placeholder='Type something')"
      ]
     },
     "metadata": {},
     "output_type": "display_data"
    },
    {
     "data": {
      "application/vnd.jupyter.widget-view+json": {
       "model_id": "b0cb9144e8d64b13b6413b094b55dd01",
       "version_major": 2,
       "version_minor": 0
      },
      "text/plain": [
       "IntSlider(value=13, description='Scale rotation: ', max=26)"
      ]
     },
     "metadata": {},
     "output_type": "display_data"
    },
    {
     "data": {
      "application/vnd.jupyter.widget-view+json": {
       "model_id": "c99126ce5c8043cea55bcd1d952b557b",
       "version_major": 2,
       "version_minor": 0
      },
      "text/plain": [
       "Label(value='Znfgrepynff')"
      ]
     },
     "metadata": {},
     "output_type": "display_data"
    }
   ],
   "source": [
    "from ciphers import HalfReversedAlphabetCipher, SlidingScaleCipher\n",
    "half = HalfReversedAlphabetCipher()\n",
    "\n",
    "sliding_ciphers = tuple(SlidingScaleCipher(r) for r in range(27))\n",
    "selected_cipher = sliding_ciphers[13]\n",
    "\n",
    "message = widgets.Text(\n",
    "    value='Masterclass',\n",
    "    placeholder='Type something',\n",
    "    description='Message:',\n",
    "    disabled=False,\n",
    "    continuous_update=True,\n",
    ")\n",
    "\n",
    "\n",
    "rot_slider = widgets.IntSlider(\n",
    "    value=13,\n",
    "    min=0,\n",
    "    max=26,\n",
    "    step=1,\n",
    "    description='Scale rotation: ',\n",
    "    disabled=False,\n",
    "    continuous_update=True,\n",
    "    orientation='horizontal',\n",
    "    readout=True,\n",
    "    readout_format='d'\n",
    ")\n",
    "\n",
    "caption = widgets.Label(value='hhh')\n",
    "\n",
    "def refresh_caption(change=None):\n",
    "    caption.value = selected_cipher.cipher(message.value)\n",
    "\n",
    "def handle_slider_change(change):\n",
    "    global selected_cipher\n",
    "    selected_cipher = sliding_ciphers[change.new]\n",
    "    refresh_caption()\n",
    "    \n",
    "refresh_caption()\n",
    "\n",
    "rot_slider.observe(handle_slider_change, names='value')\n",
    "message.observe(refresh_caption, names='value')\n",
    "display(message, rot_slider, caption)"
   ]
  },
  {
   "cell_type": "code",
   "execution_count": 7,
   "id": "eb83d272-7aa2-44ff-918c-6d8668a7abc0",
   "metadata": {},
   "outputs": [
    {
     "name": "stderr",
     "output_type": "stream",
     "text": [
      "a, A ➡️ r, R\n",
      "b, B ➡️ s, S\n",
      "c, C ➡️ t, T\n",
      "d, D ➡️ u, U\n",
      "e, E ➡️ v, V\n",
      "f, F ➡️ w, W\n",
      "g, G ➡️ x, X\n",
      "h, H ➡️ y, Y\n",
      "i, I ➡️ z, Z\n",
      "j, J ➡️ a, A\n",
      "k, K ➡️ b, B\n",
      "l, L ➡️ c, C\n",
      "m, M ➡️ d, D\n",
      "n, N ➡️ e, E\n",
      "o, O ➡️ f, F\n",
      "p, P ➡️ g, G\n",
      "q, Q ➡️ h, H\n",
      "r, R ➡️ i, I\n",
      "s, S ➡️ j, J\n",
      "t, T ➡️ k, K\n",
      "u, U ➡️ l, L\n",
      "v, V ➡️ m, M\n",
      "w, W ➡️ n, N\n",
      "x, X ➡️ o, O\n",
      "y, Y ➡️ p, P\n",
      "z, Z ➡️ q, Q\n"
     ]
    }
   ],
   "source": [
    "selected_cipher.print_mapping()"
   ]
  },
  {
   "cell_type": "code",
   "execution_count": 23,
   "id": "b56c2c54-b3e8-4655-824e-5f345d0ee63c",
   "metadata": {},
   "outputs": [
    {
     "data": {
      "application/vnd.jupyter.widget-view+json": {
       "model_id": "c53fc69d6dae484b82cc95a80824ff71",
       "version_major": 2,
       "version_minor": 0
      },
      "text/plain": [
       "Label(value='Using some variation of Pegpen')"
      ]
     },
     "metadata": {},
     "output_type": "display_data"
    },
    {
     "data": {
      "application/vnd.jupyter.widget-view+json": {
       "model_id": "025d1c6d91604bdebe489b99b58ff0d7",
       "version_major": 2,
       "version_minor": 0
      },
      "text/plain": [
       "HTML(value='\\n    <link href=\"https://fonts.cdnfonts.com/css/pigpen\" rel=\"stylesheet\">\\n    <p style=\"font-fam…"
      ]
     },
     "metadata": {},
     "output_type": "display_data"
    }
   ],
   "source": [
    "l = widgets.Label(value=\"Using some variation of Pegpen\")\n",
    "\n",
    "h = widgets.HTML(\n",
    "    value=\"\"\"\n",
    "    <link href=\"https://fonts.cdnfonts.com/css/pigpen\" rel=\"stylesheet\">\n",
    "    <p style=\"font-family: 'Pigpen', sans-serif; font-size: 18pt;\">ABCDEFGHI NOPQRSTUV JKLM WXYZ</p>\n",
    "    \"\"\"\n",
    ")\n",
    "\n",
    "display(l, h)"
   ]
  }
 ],
 "metadata": {
  "kernelspec": {
   "display_name": "Python 3 (ipykernel)",
   "language": "python",
   "name": "python3"
  },
  "language_info": {
   "codemirror_mode": {
    "name": "ipython",
    "version": 3
   },
   "file_extension": ".py",
   "mimetype": "text/x-python",
   "name": "python",
   "nbconvert_exporter": "python",
   "pygments_lexer": "ipython3",
   "version": "3.7.12"
  }
 },
 "nbformat": 4,
 "nbformat_minor": 5
}
