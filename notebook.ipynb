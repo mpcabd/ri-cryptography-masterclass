{
 "cells": [
  {
   "cell_type": "code",
   "execution_count": 1,
   "id": "082cf4a5-39dc-4511-8478-9311a81e4f4f",
   "metadata": {},
   "outputs": [],
   "source": [
    "import ipywidgets as widgets\n",
    "\n",
    "from ciphers import BlockCipher\n",
    "from IPython.display import display\n",
    "\n",
    "block_cipher = BlockCipher()"
   ]
  },
  {
   "cell_type": "code",
   "execution_count": 2,
   "id": "28bf3cf3-d12f-4333-aaa3-b690b7d92d44",
   "metadata": {},
   "outputs": [
    {
     "name": "stdout",
     "output_type": "stream",
     "text": [
      "HohireriMCllsalldIsao!stsWTRes\n",
      "HelloWorld!ThisIsRiMasterClass\n"
     ]
    },
    {
     "name": "stderr",
     "output_type": "stream",
     "text": [
      "H\te\tl\tl\to\tW\n",
      "o\tr\tl\td\t!\tT\n",
      "h\ti\ts\tI\ts\tR\n",
      "i\tM\ta\ts\tt\te\n",
      "r\tC\tl\ta\ts\ts\n"
     ]
    }
   ],
   "source": [
    "message = 'Hello world! This is RI master class' # input('Enter a message: ')\n",
    "ciphered_message = block_cipher.cipher(message, print_table=True)\n",
    "deciphered_message = block_cipher.decipher(ciphered_message)\n",
    "print(ciphered_message)\n",
    "print(deciphered_message)"
   ]
  },
  {
   "cell_type": "code",
   "execution_count": 3,
   "id": "bbd1c298-cd4f-4713-8660-ef14439b4905",
   "metadata": {},
   "outputs": [
    {
     "data": {
      "application/vnd.jupyter.widget-view+json": {
       "model_id": "83b4592527ce4926943d80a9526bb3f5",
       "version_major": 2,
       "version_minor": 0
      },
      "text/plain": [
       "Text(value='Masterclass', description='Message:', placeholder='Type something')"
      ]
     },
     "metadata": {},
     "output_type": "display_data"
    },
    {
     "data": {
      "application/vnd.jupyter.widget-view+json": {
       "model_id": "55c82137891b419e8b44f93ab3bc81e5",
       "version_major": 2,
       "version_minor": 0
      },
      "text/plain": [
       "IntSlider(value=13, description='Scale rotation: ', max=26)"
      ]
     },
     "metadata": {},
     "output_type": "display_data"
    },
    {
     "data": {
      "application/vnd.jupyter.widget-view+json": {
       "model_id": "4dc6563db35e4f20ade8c59b8f323521",
       "version_major": 2,
       "version_minor": 0
      },
      "text/plain": [
       "Label(value='Znfgrepynff')"
      ]
     },
     "metadata": {},
     "output_type": "display_data"
    }
   ],
   "source": [
    "from ciphers import HalfReversedAlphabetCipher, SlidingScaleCipher\n",
    "half = HalfReversedAlphabetCipher()\n",
    "\n",
    "sliding_ciphers = tuple(SlidingScaleCipher(r) for r in range(27))\n",
    "selected_cipher = sliding_ciphers[13]\n",
    "\n",
    "message = widgets.Text(\n",
    "    value='Masterclass',\n",
    "    placeholder='Type something',\n",
    "    description='Message:',\n",
    "    disabled=False,\n",
    "    continuous_update=True,\n",
    ")\n",
    "\n",
    "\n",
    "rot_slider = widgets.IntSlider(\n",
    "    value=13,\n",
    "    min=0,\n",
    "    max=26,\n",
    "    step=1,\n",
    "    description='Scale rotation: ',\n",
    "    disabled=False,\n",
    "    continuous_update=True,\n",
    "    orientation='horizontal',\n",
    "    readout=True,\n",
    "    readout_format='d'\n",
    ")\n",
    "\n",
    "caption = widgets.Label(value='hhh')\n",
    "\n",
    "def refresh_caption(change=None):\n",
    "    caption.value = selected_cipher.cipher(message.value)\n",
    "\n",
    "def handle_slider_change(change):\n",
    "    global selected_cipher\n",
    "    selected_cipher = sliding_ciphers[change.new]\n",
    "    refresh_caption()\n",
    "    \n",
    "refresh_caption()\n",
    "\n",
    "rot_slider.observe(handle_slider_change, names='value')\n",
    "message.observe(refresh_caption, names='value')\n",
    "display(message, rot_slider, caption)"
   ]
  },
  {
   "cell_type": "code",
   "execution_count": 4,
   "id": "eb83d272-7aa2-44ff-918c-6d8668a7abc0",
   "metadata": {},
   "outputs": [],
   "source": [
    "# selected_cipher.print_mapping()"
   ]
  },
  {
   "cell_type": "code",
   "execution_count": 5,
   "id": "b56c2c54-b3e8-4655-824e-5f345d0ee63c",
   "metadata": {},
   "outputs": [
    {
     "data": {
      "application/vnd.jupyter.widget-view+json": {
       "model_id": "cfbd3a1cd80b4fdd8b6c14a00d168d7c",
       "version_major": 2,
       "version_minor": 0
      },
      "text/plain": [
       "Label(value='Using some variation of Pegpen')"
      ]
     },
     "metadata": {},
     "output_type": "display_data"
    },
    {
     "data": {
      "application/vnd.jupyter.widget-view+json": {
       "model_id": "c9ba4824b7c64dcb8ccdc0b6ddec129e",
       "version_major": 2,
       "version_minor": 0
      },
      "text/plain": [
       "HTML(value='\\n    <link href=\"https://fonts.cdnfonts.com/css/pigpen\" rel=\"stylesheet\">\\n    <p style=\"font-fam…"
      ]
     },
     "metadata": {},
     "output_type": "display_data"
    }
   ],
   "source": [
    "l = widgets.Label(value=\"Using some variation of Pegpen\")\n",
    "\n",
    "h = widgets.HTML(\n",
    "    value=\"\"\"\n",
    "    <link href=\"https://fonts.cdnfonts.com/css/pigpen\" rel=\"stylesheet\">\n",
    "    <p style=\"font-family: 'Pigpen', sans-serif; font-size: 18pt;\">ABCDEFGHI NOPQRSTUV JKLM WXYZ</p>\n",
    "    \"\"\"\n",
    ")\n",
    "\n",
    "display(l, h)"
   ]
  },
  {
   "cell_type": "markdown",
   "id": "5bdc8402-6399-44e0-a410-62b623c0919c",
   "metadata": {},
   "source": [
    "## Enigma"
   ]
  },
  {
   "cell_type": "markdown",
   "id": "bad861f1-ea13-4458-aa84-625a5033c147",
   "metadata": {},
   "source": [
    "Use the controls below to configure your Enigma machine, your friend must use the same configuration to be able to read your encrypted messages."
   ]
  },
  {
   "cell_type": "code",
   "execution_count": null,
   "id": "242107b3-6bd8-4169-8d60-9df80899f59e",
   "metadata": {},
   "outputs": [],
   "source": [
    "_rotor = lambda v, p: widgets.Dropdown(\n",
    "    options=['I', 'II', 'III', 'IV', 'V'],\n",
    "    value=v,\n",
    "    description=f'{p.title()} rotor:',\n",
    "    disabled=False,\n",
    "    layout=widgets.Layout(width='350px')\n",
    ")\n",
    "_26_slider = lambda d, v: widgets.IntSlider(min=0, max=25, value=v, description=d, layout=widgets.Layout(width='350px'))\n",
    "_az_slider = lambda d, v: widgets.SelectionSlider(options='ABCDEFGHIJKLMNOPQRSTUVWXYZ', value=v, description=d, layout=widgets.Layout(width='350px'))\n",
    "_span3 = lambda: widgets.Layout(width='1600px', grid_column='span 3')\n",
    "\n",
    "left_rotor = _rotor('II', 'left')\n",
    "middle_rotor = _rotor('IV', 'middle')\n",
    "right_rotor = _rotor('V', 'right')\n",
    "\n",
    "left_rotor_ring_setting = _26_slider('Ring setting:', 1)\n",
    "middle_rotor_ring_setting = _26_slider('Ring setting:', 20)\n",
    "right_rotor_ring_setting = _26_slider('Ring setting:', 11)\n",
    "\n",
    "left_rotor_starting_position = _az_slider('Position:', 'B')\n",
    "middle_rotor_starting_position = _az_slider('Position:', 'L')\n",
    "right_rotor_starting_position = _az_slider('Position:', 'A')\n",
    "\n",
    "reflector = widgets.Dropdown(options=['B', 'C'], value='B', description='Reflector:',     layout=widgets.Layout(width='350px'))\n",
    "\n",
    "plugboard_settings = widgets.Text(value='AV BS CG DL FU HZ IN KM OW RX')\n",
    "\n",
    "widgets.GridBox((\n",
    "    left_rotor, middle_rotor, right_rotor,\n",
    "    # widgets.Label(value='Ring setting is an initial internal rotation of the rotor, it is not visible from outside.', layout=_span3()),\n",
    "    widgets.VBox((widgets.HTML(value='''<b>Plugboard settings</b><p>Here you can configure the plugboard.<br>\n",
    "                  You can pick up to 10 uppercase character pairs. A character must not be used twice.<br>\n",
    "                  For example, you can enter \"AB CD EF\" but you cannot enter \"AB AD EF\".'''),\n",
    "                  plugboard_settings),\n",
    "                  layout=_span3()),\n",
    "    left_rotor_ring_setting, middle_rotor_ring_setting, right_rotor_ring_setting,\n",
    "    left_rotor_starting_position, middle_rotor_starting_position, right_rotor_starting_position, \n",
    "    reflector, widgets.Box(), widgets.Box(),\n",
    "    widgets.VBox((widgets.HTML(value='''<b>Plugboard settings</b><p>Here you can configure the plugboard.<br>\n",
    "                  You can pick up to 10 uppercase character pairs. A character must not be used twice.<br>\n",
    "                  For example, you can enter \"AB CD EF\" but you cannot enter \"AB AD EF\".'''),\n",
    "                  plugboard_settings),\n",
    "                  layout=_span3())\n",
    "), layout=widgets.Layout(width='1600px', grid_template_columns='repeat(3, 360px)'))\n"
   ]
  },
  {
   "cell_type": "code",
   "execution_count": 20,
   "id": "5137664d-4035-4c6c-9e97-66e20a4d23dc",
   "metadata": {},
   "outputs": [
    {
     "name": "stdout",
     "output_type": "stream",
     "text": [
      "THEXRUSSIANSXAREXCOMINGX\n",
      "NIBLFMYMLLUFWCASCSSNVHAZ\n"
     ]
    }
   ],
   "source": [
    "from enigma.machine import EnigmaMachine\n",
    "\n",
    "# setup machine according to specs from a daily key sheet:\n",
    "machine = EnigmaMachine.from_key_sheet(\n",
    "       rotors=' '.join((left_rotor.value, middle_rotor.value, right_rotor.value)),\n",
    "       reflector=reflector.value,\n",
    "       ring_settings=[left_rotor_ring_setting.value, middle_rotor_ring_setting.value, right_rotor_ring_setting.value],\n",
    "       plugboard_settings=plugboard_settings.value)\n",
    "\n",
    "# set machine initial starting position\n",
    "starting_position = ''.join((left_rotor_starting_position.value, middle_rotor_starting_position.value, right_rotor_starting_position.value))\n",
    "machine.set_display(starting_position)\n",
    "ciphertext = 'NIBLFMYMLLUFWCASCSSNVHAZ'\n",
    "plaintext = machine.process_text(ciphertext, replace_char='X')\n",
    "print(plaintext)\n",
    "machine.set_display(starting_position)\n",
    "print(machine.process_text(plaintext, replace_char='X'))"
   ]
  }
 ],
 "metadata": {
  "kernelspec": {
   "display_name": "Python 3 (ipykernel)",
   "language": "python",
   "name": "python3"
  },
  "language_info": {
   "codemirror_mode": {
    "name": "ipython",
    "version": 3
   },
   "file_extension": ".py",
   "mimetype": "text/x-python",
   "name": "python",
   "nbconvert_exporter": "python",
   "pygments_lexer": "ipython3",
   "version": "3.7.12"
  }
 },
 "nbformat": 4,
 "nbformat_minor": 5
}
